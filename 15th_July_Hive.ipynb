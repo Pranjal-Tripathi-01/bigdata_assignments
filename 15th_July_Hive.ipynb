{
 "cells": [
  {
   "cell_type": "markdown",
   "id": "784e0ab3",
   "metadata": {},
   "source": [
    "### 1.  Write a Python program that uses the HiveQL language to create a table named \"Employees\" with columns for \"id,\" \"name,\" and \"salary.\""
   ]
  },
  {
   "cell_type": "raw",
   "id": "d30480a5",
   "metadata": {},
   "source": [
    "from pyhive import hive\n",
    "\n",
    "# Connect to Hive server\n",
    "connection = hive.Connection(host='localhost', port=10000, username='pranjal')\n",
    "\n",
    "# Create table using HiveQL\n",
    "query = '''\n",
    "CREATE TABLE Employees (\n",
    "    id INT,\n",
    "    name STRING,\n",
    "    salary FLOAT\n",
    ")\n",
    "'''\n",
    "with connection.cursor() as cursor:\n",
    "    cursor.execute(query)\n"
   ]
  },
  {
   "cell_type": "markdown",
   "id": "85cd4fb9",
   "metadata": {},
   "source": [
    "### 2.  Create a Python program that retrieves records from a Hive table named \"Customers\" where the age is greater than 30."
   ]
  },
  {
   "cell_type": "raw",
   "id": "71606e11",
   "metadata": {},
   "source": [
    "# Retrieve records using HiveQL\n",
    "query = '''\n",
    "SELECT * FROM Customers WHERE age > 30\n",
    "'''\n",
    "with connection.cursor() as cursor:\n",
    "    cursor.execute(query)\n",
    "    results = cursor.fetchall()\n",
    "    for row in results:\n",
    "        print(row)\n"
   ]
  },
  {
   "cell_type": "markdown",
   "id": "e06170bd",
   "metadata": {},
   "source": [
    "### 3.  Write a Python script that sorts records in descending order based on the \"timestamp\" column in a Hive table named \"Logs.\""
   ]
  },
  {
   "cell_type": "raw",
   "id": "fe90753b",
   "metadata": {},
   "source": [
    "# Sort records using HiveQL\n",
    "query = '''\n",
    "SELECT * FROM Logs ORDER BY timestamp DESC\n",
    "'''\n",
    "with connection.cursor() as cursor:\n",
    "    cursor.execute(query)\n",
    "    results = cursor.fetchall()\n",
    "    for row in results:\n",
    "        print(row)\n"
   ]
  },
  {
   "cell_type": "markdown",
   "id": "458586b5",
   "metadata": {},
   "source": [
    "### 4. Connect to a Hive server using PyHive library and retrieve all records from a table named \"Products\":"
   ]
  },
  {
   "cell_type": "raw",
   "id": "0903b887",
   "metadata": {},
   "source": [
    "# Retrieve all records from table using HiveQL\n",
    "query = '''\n",
    "SELECT * FROM Products\n",
    "'''\n",
    "with connection.cursor() as cursor:\n",
    "    cursor.execute(query)\n",
    "    results = cursor.fetchall()\n",
    "    for row in results:\n",
    "        print(row)\n"
   ]
  },
  {
   "cell_type": "markdown",
   "id": "16512683",
   "metadata": {},
   "source": [
    "### 5. Calculate the average salary of employees from a Hive table named \"Employees\":"
   ]
  },
  {
   "cell_type": "raw",
   "id": "596dd12f",
   "metadata": {},
   "source": [
    "# Calculate average salary using HiveQL\n",
    "query = '''\n",
    "SELECT AVG(salary) FROM Employees\n",
    "'''\n",
    "with connection.cursor() as cursor:\n",
    "    cursor.execute(query)\n",
    "    result = cursor.fetchone()\n",
    "    average_salary = result[0]\n",
    "    print(\"Average Salary:\", average_salary)\n"
   ]
  },
  {
   "cell_type": "markdown",
   "id": "a2d53f73",
   "metadata": {},
   "source": [
    "### 6. Use Hive partitioning to create a partitioned table named \"Sales_Data\" based on the \"year\" and \"month\" columns:"
   ]
  },
  {
   "cell_type": "raw",
   "id": "43143a36",
   "metadata": {},
   "source": [
    "# Create partitioned table using HiveQL\n",
    "query = '''\n",
    "CREATE TABLE Sales_Data (\n",
    "    ...\n",
    ")\n",
    "PARTITIONED BY (year INT, month INT)\n",
    "'''\n",
    "with connection.cursor() as cursor:\n",
    "    cursor.execute(query)\n"
   ]
  },
  {
   "cell_type": "markdown",
   "id": "42ce6953",
   "metadata": {},
   "source": [
    "### 7. Add a new column named \"email\" of type string to an existing Hive table named \"Employees\":"
   ]
  },
  {
   "cell_type": "raw",
   "id": "c2c17501",
   "metadata": {},
   "source": [
    "# Add new column using HiveQL\n",
    "query = '''\n",
    "ALTER TABLE Employees ADD COLUMNS (email STRING)\n",
    "'''\n",
    "with connection.cursor() as cursor:\n",
    "    cursor.execute(query)\n"
   ]
  },
  {
   "cell_type": "markdown",
   "id": "9fa750dc",
   "metadata": {},
   "source": [
    "### 8. Perform an inner join between two Hive tables, \"Orders\" and \"Customers,\" based on a common column:"
   ]
  },
  {
   "cell_type": "raw",
   "id": "2c950d22",
   "metadata": {},
   "source": [
    "# Perform inner join using HiveQL\n",
    "query = '''\n",
    "SELECT *\n",
    "FROM Orders\n",
    "INNER JOIN Customers ON Orders.customer_id = Customers.id\n",
    "'''\n",
    "with connection.cursor() as cursor:\n",
    "    cursor.execute(query)\n",
    "    results = cursor.fetchall()\n",
    "    for row in results:\n",
    "        print(row)\n"
   ]
  },
  {
   "cell_type": "markdown",
   "id": "68fa3041",
   "metadata": {},
   "source": [
    "### 9. Use the Hive SerDe library to process JSON data stored in a Hive table named \"User_Activity_Logs\":"
   ]
  },
  {
   "cell_type": "raw",
   "id": "bd8f2c6f",
   "metadata": {},
   "source": [
    "# Process JSON data using HiveQL\n",
    "query = '''\n",
    "SELECT get_json_object(activity, '$.timestamp') AS timestamp,\n",
    "       get_json_object(activity, '$.user_id') AS user_id,\n",
    "       get_json_object(activity, '$.action') AS action\n",
    "FROM User_Activity_Logs\n",
    "'''\n",
    "with connection.cursor() as cursor:\n",
    "    cursor.execute(query)\n",
    "    results = cursor.fetchall()\n",
    "    for row in results:\n",
    "        print(row)\n"
   ]
  },
  {
   "cell_type": "code",
   "execution_count": null,
   "id": "96e9b275",
   "metadata": {},
   "outputs": [],
   "source": []
  }
 ],
 "metadata": {
  "kernelspec": {
   "display_name": "Python 3 (ipykernel)",
   "language": "python",
   "name": "python3"
  },
  "language_info": {
   "codemirror_mode": {
    "name": "ipython",
    "version": 3
   },
   "file_extension": ".py",
   "mimetype": "text/x-python",
   "name": "python",
   "nbconvert_exporter": "python",
   "pygments_lexer": "ipython3",
   "version": "3.9.13"
  }
 },
 "nbformat": 4,
 "nbformat_minor": 5
}
