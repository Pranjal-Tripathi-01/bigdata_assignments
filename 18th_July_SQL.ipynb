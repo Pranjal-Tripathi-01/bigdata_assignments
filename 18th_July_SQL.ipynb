{
 "cells": [
  {
   "cell_type": "markdown",
   "id": "aa138391",
   "metadata": {},
   "source": [
    "### 1. Write an SQL query to retrieve the names and email addresses of all employees from a table named \"Employees\":"
   ]
  },
  {
   "cell_type": "markdown",
   "id": "9f437051",
   "metadata": {},
   "source": [
    "SELECT Name, Email\n",
    "FROM Employees;"
   ]
  },
  {
   "cell_type": "markdown",
   "id": "6d321317",
   "metadata": {},
   "source": [
    "### 2. Write an SQL query to filter records from a table named \"Customers\" where the \"City\" column is 'New York':"
   ]
  },
  {
   "cell_type": "markdown",
   "id": "1314fc9c",
   "metadata": {},
   "source": [
    "SELECT *\n",
    "FROM Customers\n",
    "WHERE City = 'New York';\n"
   ]
  },
  {
   "cell_type": "markdown",
   "id": "fe39c74c",
   "metadata": {},
   "source": [
    "### 3. Write an SQL query to sort records in descending order based on the \"DateOfBirth\" column in a table named \"Users\":"
   ]
  },
  {
   "cell_type": "markdown",
   "id": "02eea68b",
   "metadata": {},
   "source": [
    "SELECT *\n",
    "FROM Users\n",
    "ORDER BY DateOfBirth DESC;\n"
   ]
  },
  {
   "cell_type": "markdown",
   "id": "288d5680",
   "metadata": {},
   "source": [
    "### 4. Write an SQL query to sort records in ascending order based on the \"RegistrationDate\" column in a table named \"Users\":"
   ]
  },
  {
   "cell_type": "markdown",
   "id": "abf80629",
   "metadata": {},
   "source": [
    "SELECT *\n",
    "FROM Users\n",
    "ORDER BY RegistrationDate ASC;\n"
   ]
  },
  {
   "cell_type": "markdown",
   "id": "be2a1895",
   "metadata": {},
   "source": [
    "### 5. Write an SQL query to find the employee with the highest salary from a table named \"Employees\" and display their name, position, and salary: "
   ]
  },
  {
   "cell_type": "markdown",
   "id": "3c1dd10b",
   "metadata": {},
   "source": [
    "SELECT Name, Position, Salary\n",
    "FROM Employees\n",
    "WHERE Salary = (SELECT MAX(Salary) FROM Employees);\n"
   ]
  },
  {
   "cell_type": "markdown",
   "id": "8c6d6ac8",
   "metadata": {},
   "source": [
    "### 6. Write an SQL query to retrieve records from a table named \"Customers\" where the \"Phone\" column matches the pattern '+1-XXX-XXX-XXXX':"
   ]
  },
  {
   "cell_type": "markdown",
   "id": "2931ece7",
   "metadata": {},
   "source": [
    "SELECT *\n",
    "FROM Customers\n",
    "WHERE Phone LIKE '+1-___-___-____';\n"
   ]
  },
  {
   "cell_type": "markdown",
   "id": "6805e9db",
   "metadata": {},
   "source": [
    "### 7.  Write an SQL query to retrieve the top 5 customers with the highest total purchase amount from a table named \"Orders\" and display their names and total purchase amounts:"
   ]
  },
  {
   "cell_type": "markdown",
   "id": "3d10ca9f",
   "metadata": {},
   "source": [
    "SELECT CustomerName, SUM(PurchaseAmount) AS TotalPurchaseAmount\n",
    "FROM Orders\n",
    "GROUP BY CustomerName\n",
    "ORDER BY TotalPurchaseAmount DESC\n",
    "LIMIT 5;\n"
   ]
  },
  {
   "cell_type": "markdown",
   "id": "458a7b66",
   "metadata": {},
   "source": [
    "### 8. Write an SQL query to calculate the percentage of sales for each product category in a table named \"Sales\" and display the category name, total sales amount, and the percentage of total sales:"
   ]
  },
  {
   "cell_type": "markdown",
   "id": "fd85bd2b",
   "metadata": {},
   "source": [
    "SELECT CategoryName, SUM(SalesAmount) AS TotalSalesAmount, (SUM(SalesAmount) / (SELECT SUM(SalesAmount) FROM Sales)) * 100 AS PercentageOfTotalSales\n",
    "FROM Sales\n",
    "GROUP BY CategoryName;\n"
   ]
  },
  {
   "cell_type": "markdown",
   "id": "fc730d5a",
   "metadata": {},
   "source": [
    "### 9. Write an SQL query to find the customers who have made the highest total purchases across all years from a table named \"Orders\" and display their names, email addresses, and the total purchase amount:"
   ]
  },
  {
   "cell_type": "markdown",
   "id": "684dcfee",
   "metadata": {},
   "source": [
    "SELECT CustomerName, Email, SUM(PurchaseAmount) AS TotalPurchaseAmount\n",
    "FROM Orders\n",
    "GROUP BY CustomerName, Email\n",
    "HAVING SUM(PurchaseAmount) = (SELECT MAX(TotalPurchaseAmount) FROM (SELECT CustomerName, SUM(PurchaseAmount) AS TotalPurchaseAmount FROM Orders GROUP BY CustomerName) AS Subquery);\n"
   ]
  },
  {
   "cell_type": "code",
   "execution_count": null,
   "id": "5de397c4",
   "metadata": {},
   "outputs": [],
   "source": []
  }
 ],
 "metadata": {
  "kernelspec": {
   "display_name": "Python 3 (ipykernel)",
   "language": "python",
   "name": "python3"
  },
  "language_info": {
   "codemirror_mode": {
    "name": "ipython",
    "version": 3
   },
   "file_extension": ".py",
   "mimetype": "text/x-python",
   "name": "python",
   "nbconvert_exporter": "python",
   "pygments_lexer": "ipython3",
   "version": "3.9.13"
  }
 },
 "nbformat": 4,
 "nbformat_minor": 5
}
